{
 "cells": [
  {
   "cell_type": "markdown",
   "id": "5dcdd3d6",
   "metadata": {},
   "source": [
    "Importing the dependencies"
   ]
  },
  {
   "cell_type": "code",
   "execution_count": 4,
   "id": "8994cdb1",
   "metadata": {},
   "outputs": [],
   "source": [
    "import numpy as np\n",
    "import matplotlib.pyplot as plt\n",
    "import warnings\n",
    "warnings.filterwarnings('ignore')"
   ]
  },
  {
   "cell_type": "code",
   "execution_count": 37,
   "id": "55dfe63f",
   "metadata": {},
   "outputs": [],
   "source": [
    "from tensorflow.keras import datasets,layers,models\n",
    "import tensorflow as tf"
   ]
  },
  {
   "cell_type": "code",
   "execution_count": 38,
   "id": "6c128e70",
   "metadata": {},
   "outputs": [],
   "source": [
    "fashion=datasets.fashion_mnist\n",
    "(train_images,train_labels),(test_images,test_labels)=fashion.load_data()"
   ]
  },
  {
   "cell_type": "code",
   "execution_count": 39,
   "id": "d133b1a2",
   "metadata": {},
   "outputs": [
    {
     "data": {
      "text/plain": [
       "numpy.ndarray"
      ]
     },
     "execution_count": 39,
     "metadata": {},
     "output_type": "execute_result"
    }
   ],
   "source": [
    "type(train_images)"
   ]
  },
  {
   "cell_type": "code",
   "execution_count": 40,
   "id": "cd3c6491",
   "metadata": {},
   "outputs": [
    {
     "data": {
      "text/plain": [
       "numpy.ndarray"
      ]
     },
     "execution_count": 40,
     "metadata": {},
     "output_type": "execute_result"
    }
   ],
   "source": [
    "type(train_labels)"
   ]
  },
  {
   "cell_type": "code",
   "execution_count": 41,
   "id": "98839fa6",
   "metadata": {},
   "outputs": [
    {
     "name": "stdout",
     "output_type": "stream",
     "text": [
      "60000\n"
     ]
    }
   ],
   "source": [
    "print(len(train_images))"
   ]
  },
  {
   "cell_type": "code",
   "execution_count": 42,
   "id": "7ae1a616",
   "metadata": {},
   "outputs": [
    {
     "name": "stdout",
     "output_type": "stream",
     "text": [
      "60000\n"
     ]
    }
   ],
   "source": [
    "print(len(train_images))"
   ]
  },
  {
   "cell_type": "code",
   "execution_count": 43,
   "id": "475418a2",
   "metadata": {},
   "outputs": [
    {
     "name": "stdout",
     "output_type": "stream",
     "text": [
      "(28, 28)\n"
     ]
    }
   ],
   "source": [
    "print(train_images[0].shape)"
   ]
  },
  {
   "cell_type": "code",
   "execution_count": 44,
   "id": "04d39518",
   "metadata": {},
   "outputs": [
    {
     "name": "stdout",
     "output_type": "stream",
     "text": [
      "[[  0   0   0   0   0   0   0   0   0   0   0   0   0   0   0   0   0   0\n",
      "    0   0   0   0   0   0   0   0   0   0]\n",
      " [  0   0   0   0   0   0   0   0   0   0   0   0   0   0   0   0   0   0\n",
      "    0   0   0   0   0   0   0   0   0   0]\n",
      " [  0   0   0   0   0   0   0   0   0   0   0   0   0   0   0   0   0   0\n",
      "    0   0   0   0   0   0   0   0   0   0]\n",
      " [  0   0   0   0   0   0   0   0   0   0   0   0   1   0   0  13  73   0\n",
      "    0   1   4   0   0   0   0   1   1   0]\n",
      " [  0   0   0   0   0   0   0   0   0   0   0   0   3   0  36 136 127  62\n",
      "   54   0   0   0   1   3   4   0   0   3]\n",
      " [  0   0   0   0   0   0   0   0   0   0   0   0   6   0 102 204 176 134\n",
      "  144 123  23   0   0   0   0  12  10   0]\n",
      " [  0   0   0   0   0   0   0   0   0   0   0   0   0   0 155 236 207 178\n",
      "  107 156 161 109  64  23  77 130  72  15]\n",
      " [  0   0   0   0   0   0   0   0   0   0   0   1   0  69 207 223 218 216\n",
      "  216 163 127 121 122 146 141  88 172  66]\n",
      " [  0   0   0   0   0   0   0   0   0   1   1   1   0 200 232 232 233 229\n",
      "  223 223 215 213 164 127 123 196 229   0]\n",
      " [  0   0   0   0   0   0   0   0   0   0   0   0   0 183 225 216 223 228\n",
      "  235 227 224 222 224 221 223 245 173   0]\n",
      " [  0   0   0   0   0   0   0   0   0   0   0   0   0 193 228 218 213 198\n",
      "  180 212 210 211 213 223 220 243 202   0]\n",
      " [  0   0   0   0   0   0   0   0   0   1   3   0  12 219 220 212 218 192\n",
      "  169 227 208 218 224 212 226 197 209  52]\n",
      " [  0   0   0   0   0   0   0   0   0   0   6   0  99 244 222 220 218 203\n",
      "  198 221 215 213 222 220 245 119 167  56]\n",
      " [  0   0   0   0   0   0   0   0   0   4   0   0  55 236 228 230 228 240\n",
      "  232 213 218 223 234 217 217 209  92   0]\n",
      " [  0   0   1   4   6   7   2   0   0   0   0   0 237 226 217 223 222 219\n",
      "  222 221 216 223 229 215 218 255  77   0]\n",
      " [  0   3   0   0   0   0   0   0   0  62 145 204 228 207 213 221 218 208\n",
      "  211 218 224 223 219 215 224 244 159   0]\n",
      " [  0   0   0   0  18  44  82 107 189 228 220 222 217 226 200 205 211 230\n",
      "  224 234 176 188 250 248 233 238 215   0]\n",
      " [  0  57 187 208 224 221 224 208 204 214 208 209 200 159 245 193 206 223\n",
      "  255 255 221 234 221 211 220 232 246   0]\n",
      " [  3 202 228 224 221 211 211 214 205 205 205 220 240  80 150 255 229 221\n",
      "  188 154 191 210 204 209 222 228 225   0]\n",
      " [ 98 233 198 210 222 229 229 234 249 220 194 215 217 241  65  73 106 117\n",
      "  168 219 221 215 217 223 223 224 229  29]\n",
      " [ 75 204 212 204 193 205 211 225 216 185 197 206 198 213 240 195 227 245\n",
      "  239 223 218 212 209 222 220 221 230  67]\n",
      " [ 48 203 183 194 213 197 185 190 194 192 202 214 219 221 220 236 225 216\n",
      "  199 206 186 181 177 172 181 205 206 115]\n",
      " [  0 122 219 193 179 171 183 196 204 210 213 207 211 210 200 196 194 191\n",
      "  195 191 198 192 176 156 167 177 210  92]\n",
      " [  0   0  74 189 212 191 175 172 175 181 185 188 189 188 193 198 204 209\n",
      "  210 210 211 188 188 194 192 216 170   0]\n",
      " [  2   0   0   0  66 200 222 237 239 242 246 243 244 221 220 193 191 179\n",
      "  182 182 181 176 166 168  99  58   0   0]\n",
      " [  0   0   0   0   0   0   0  40  61  44  72  41  35   0   0   0   0   0\n",
      "    0   0   0   0   0   0   0   0   0   0]\n",
      " [  0   0   0   0   0   0   0   0   0   0   0   0   0   0   0   0   0   0\n",
      "    0   0   0   0   0   0   0   0   0   0]\n",
      " [  0   0   0   0   0   0   0   0   0   0   0   0   0   0   0   0   0   0\n",
      "    0   0   0   0   0   0   0   0   0   0]]\n"
     ]
    }
   ],
   "source": [
    "print(train_images[0])"
   ]
  },
  {
   "cell_type": "code",
   "execution_count": 45,
   "id": "c387c8b6",
   "metadata": {},
   "outputs": [
    {
     "data": {
      "image/png": "[encoded data removed]",
      "text/plain": [
       "<Figure size 640x480 with 1 Axes>"
      ]
     },
     "metadata": {},
     "output_type": "display_data"
    }
   ],
   "source": [
    "plt.imshow(train_images[0],cmap='gray')\n",
    "plt.show()"
   ]
  },
  {
   "cell_type": "code",
   "execution_count": 46,
   "id": "c5602a9b",
   "metadata": {},
   "outputs": [
    {
     "name": "stdout",
     "output_type": "stream",
     "text": [
      "9\n"
     ]
    }
   ],
   "source": [
    "print(train_labels[0])"
   ]
  },
  {
   "cell_type": "markdown",
   "id": "01821bda",
   "metadata": {},
   "source": [
    "class_names = ['T-shirt/top', 'Trouser', 'Pullover', 'Dress', 'Coat', 'Sandal', 'Shirt', 'Sneaker', 'Bag', 'Ankle boot']"
   ]
  },
  {
   "cell_type": "code",
   "execution_count": 47,
   "id": "04e8ef65",
   "metadata": {},
   "outputs": [],
   "source": [
    "#normalise\n",
    "train_images,test_images =train_images/256.0,test_images/255.0"
   ]
  },
  {
   "cell_type": "code",
   "execution_count": 48,
   "id": "414c77d1",
   "metadata": {},
   "outputs": [
    {
     "name": "stdout",
     "output_type": "stream",
     "text": [
      "[[0.         0.         0.         0.         0.         0.\n",
      "  0.         0.         0.         0.         0.         0.\n",
      "  0.         0.         0.         0.         0.         0.\n",
      "  0.         0.         0.         0.         0.         0.\n",
      "  0.         0.         0.         0.        ]\n",
      " [0.         0.         0.         0.         0.         0.\n",
      "  0.         0.         0.         0.         0.         0.\n",
      "  0.         0.         0.         0.         0.         0.\n",
      "  0.         0.         0.         0.         0.         0.\n",
      "  0.         0.         0.         0.        ]\n",
      " [0.         0.         0.         0.         0.         0.\n",
      "  0.         0.         0.         0.         0.         0.\n",
      "  0.         0.         0.         0.         0.         0.\n",
      "  0.         0.         0.         0.         0.         0.\n",
      "  0.         0.         0.         0.        ]\n",
      " [0.         0.         0.         0.         0.         0.\n",
      "  0.         0.         0.         0.         0.         0.\n",
      "  0.00390625 0.         0.         0.05078125 0.28515625 0.\n",
      "  0.         0.00390625 0.015625   0.         0.         0.\n",
      "  0.         0.00390625 0.00390625 0.        ]\n",
      " [0.         0.         0.         0.         0.         0.\n",
      "  0.         0.         0.         0.         0.         0.\n",
      "  0.01171875 0.         0.140625   0.53125    0.49609375 0.2421875\n",
      "  0.2109375  0.         0.         0.         0.00390625 0.01171875\n",
      "  0.015625   0.         0.         0.01171875]\n",
      " [0.         0.         0.         0.         0.         0.\n",
      "  0.         0.         0.         0.         0.         0.\n",
      "  0.0234375  0.         0.3984375  0.796875   0.6875     0.5234375\n",
      "  0.5625     0.48046875 0.08984375 0.         0.         0.\n",
      "  0.         0.046875   0.0390625  0.        ]\n",
      " [0.         0.         0.         0.         0.         0.\n",
      "  0.         0.         0.         0.         0.         0.\n",
      "  0.         0.         0.60546875 0.921875   0.80859375 0.6953125\n",
      "  0.41796875 0.609375   0.62890625 0.42578125 0.25       0.08984375\n",
      "  0.30078125 0.5078125  0.28125    0.05859375]\n",
      " [0.         0.         0.         0.         0.         0.\n",
      "  0.         0.         0.         0.         0.         0.00390625\n",
      "  0.         0.26953125 0.80859375 0.87109375 0.8515625  0.84375\n",
      "  0.84375    0.63671875 0.49609375 0.47265625 0.4765625  0.5703125\n",
      "  0.55078125 0.34375    0.671875   0.2578125 ]\n",
      " [0.         0.         0.         0.         0.         0.\n",
      "  0.         0.         0.         0.00390625 0.00390625 0.00390625\n",
      "  0.         0.78125    0.90625    0.90625    0.91015625 0.89453125\n",
      "  0.87109375 0.87109375 0.83984375 0.83203125 0.640625   0.49609375\n",
      "  0.48046875 0.765625   0.89453125 0.        ]\n",
      " [0.         0.         0.         0.         0.         0.\n",
      "  0.         0.         0.         0.         0.         0.\n",
      "  0.         0.71484375 0.87890625 0.84375    0.87109375 0.890625\n",
      "  0.91796875 0.88671875 0.875      0.8671875  0.875      0.86328125\n",
      "  0.87109375 0.95703125 0.67578125 0.        ]\n",
      " [0.         0.         0.         0.         0.         0.\n",
      "  0.         0.         0.         0.         0.         0.\n",
      "  0.         0.75390625 0.890625   0.8515625  0.83203125 0.7734375\n",
      "  0.703125   0.828125   0.8203125  0.82421875 0.83203125 0.87109375\n",
      "  0.859375   0.94921875 0.7890625  0.        ]\n",
      " [0.         0.         0.         0.         0.         0.\n",
      "  0.         0.         0.         0.00390625 0.01171875 0.\n",
      "  0.046875   0.85546875 0.859375   0.828125   0.8515625  0.75\n",
      "  0.66015625 0.88671875 0.8125     0.8515625  0.875      0.828125\n",
      "  0.8828125  0.76953125 0.81640625 0.203125  ]\n",
      " [0.         0.         0.         0.         0.         0.\n",
      "  0.         0.         0.         0.         0.0234375  0.\n",
      "  0.38671875 0.953125   0.8671875  0.859375   0.8515625  0.79296875\n",
      "  0.7734375  0.86328125 0.83984375 0.83203125 0.8671875  0.859375\n",
      "  0.95703125 0.46484375 0.65234375 0.21875   ]\n",
      " [0.         0.         0.         0.         0.         0.\n",
      "  0.         0.         0.         0.015625   0.         0.\n",
      "  0.21484375 0.921875   0.890625   0.8984375  0.890625   0.9375\n",
      "  0.90625    0.83203125 0.8515625  0.87109375 0.9140625  0.84765625\n",
      "  0.84765625 0.81640625 0.359375   0.        ]\n",
      " [0.         0.         0.00390625 0.015625   0.0234375  0.02734375\n",
      "  0.0078125  0.         0.         0.         0.         0.\n",
      "  0.92578125 0.8828125  0.84765625 0.87109375 0.8671875  0.85546875\n",
      "  0.8671875  0.86328125 0.84375    0.87109375 0.89453125 0.83984375\n",
      "  0.8515625  0.99609375 0.30078125 0.        ]\n",
      " [0.         0.01171875 0.         0.         0.         0.\n",
      "  0.         0.         0.         0.2421875  0.56640625 0.796875\n",
      "  0.890625   0.80859375 0.83203125 0.86328125 0.8515625  0.8125\n",
      "  0.82421875 0.8515625  0.875      0.87109375 0.85546875 0.83984375\n",
      "  0.875      0.953125   0.62109375 0.        ]\n",
      " [0.         0.         0.         0.         0.0703125  0.171875\n",
      "  0.3203125  0.41796875 0.73828125 0.890625   0.859375   0.8671875\n",
      "  0.84765625 0.8828125  0.78125    0.80078125 0.82421875 0.8984375\n",
      "  0.875      0.9140625  0.6875     0.734375   0.9765625  0.96875\n",
      "  0.91015625 0.9296875  0.83984375 0.        ]\n",
      " [0.         0.22265625 0.73046875 0.8125     0.875      0.86328125\n",
      "  0.875      0.8125     0.796875   0.8359375  0.8125     0.81640625\n",
      "  0.78125    0.62109375 0.95703125 0.75390625 0.8046875  0.87109375\n",
      "  0.99609375 0.99609375 0.86328125 0.9140625  0.86328125 0.82421875\n",
      "  0.859375   0.90625    0.9609375  0.        ]\n",
      " [0.01171875 0.7890625  0.890625   0.875      0.86328125 0.82421875\n",
      "  0.82421875 0.8359375  0.80078125 0.80078125 0.80078125 0.859375\n",
      "  0.9375     0.3125     0.5859375  0.99609375 0.89453125 0.86328125\n",
      "  0.734375   0.6015625  0.74609375 0.8203125  0.796875   0.81640625\n",
      "  0.8671875  0.890625   0.87890625 0.        ]\n",
      " [0.3828125  0.91015625 0.7734375  0.8203125  0.8671875  0.89453125\n",
      "  0.89453125 0.9140625  0.97265625 0.859375   0.7578125  0.83984375\n",
      "  0.84765625 0.94140625 0.25390625 0.28515625 0.4140625  0.45703125\n",
      "  0.65625    0.85546875 0.86328125 0.83984375 0.84765625 0.87109375\n",
      "  0.87109375 0.875      0.89453125 0.11328125]\n",
      " [0.29296875 0.796875   0.828125   0.796875   0.75390625 0.80078125\n",
      "  0.82421875 0.87890625 0.84375    0.72265625 0.76953125 0.8046875\n",
      "  0.7734375  0.83203125 0.9375     0.76171875 0.88671875 0.95703125\n",
      "  0.93359375 0.87109375 0.8515625  0.828125   0.81640625 0.8671875\n",
      "  0.859375   0.86328125 0.8984375  0.26171875]\n",
      " [0.1875     0.79296875 0.71484375 0.7578125  0.83203125 0.76953125\n",
      "  0.72265625 0.7421875  0.7578125  0.75       0.7890625  0.8359375\n",
      "  0.85546875 0.86328125 0.859375   0.921875   0.87890625 0.84375\n",
      "  0.77734375 0.8046875  0.7265625  0.70703125 0.69140625 0.671875\n",
      "  0.70703125 0.80078125 0.8046875  0.44921875]\n",
      " [0.         0.4765625  0.85546875 0.75390625 0.69921875 0.66796875\n",
      "  0.71484375 0.765625   0.796875   0.8203125  0.83203125 0.80859375\n",
      "  0.82421875 0.8203125  0.78125    0.765625   0.7578125  0.74609375\n",
      "  0.76171875 0.74609375 0.7734375  0.75       0.6875     0.609375\n",
      "  0.65234375 0.69140625 0.8203125  0.359375  ]\n",
      " [0.         0.         0.2890625  0.73828125 0.828125   0.74609375\n",
      "  0.68359375 0.671875   0.68359375 0.70703125 0.72265625 0.734375\n",
      "  0.73828125 0.734375   0.75390625 0.7734375  0.796875   0.81640625\n",
      "  0.8203125  0.8203125  0.82421875 0.734375   0.734375   0.7578125\n",
      "  0.75       0.84375    0.6640625  0.        ]\n",
      " [0.0078125  0.         0.         0.         0.2578125  0.78125\n",
      "  0.8671875  0.92578125 0.93359375 0.9453125  0.9609375  0.94921875\n",
      "  0.953125   0.86328125 0.859375   0.75390625 0.74609375 0.69921875\n",
      "  0.7109375  0.7109375  0.70703125 0.6875     0.6484375  0.65625\n",
      "  0.38671875 0.2265625  0.         0.        ]\n",
      " [0.         0.         0.         0.         0.         0.\n",
      "  0.         0.15625    0.23828125 0.171875   0.28125    0.16015625\n",
      "  0.13671875 0.         0.         0.         0.         0.\n",
      "  0.         0.         0.         0.         0.         0.\n",
      "  0.         0.         0.         0.        ]\n",
      " [0.         0.         0.         0.         0.         0.\n",
      "  0.         0.         0.         0.         0.         0.\n",
      "  0.         0.         0.         0.         0.         0.\n",
      "  0.         0.         0.         0.         0.         0.\n",
      "  0.         0.         0.         0.        ]\n",
      " [0.         0.         0.         0.         0.         0.\n",
      "  0.         0.         0.         0.         0.         0.\n",
      "  0.         0.         0.         0.         0.         0.\n",
      "  0.         0.         0.         0.         0.         0.\n",
      "  0.         0.         0.         0.        ]]\n"
     ]
    }
   ],
   "source": [
    "print(train_images[0])"
   ]
  },
  {
   "cell_type": "code",
   "execution_count": 49,
   "id": "94a4aeef",
   "metadata": {},
   "outputs": [],
   "source": [
    "#reshape images to specify that its a single channel\n",
    "train_images =train_images.reshape((train_images.shape[0],28,28,1))\n",
    "test_images=test_images.reshape((test_images.shape[0],28,28,1))\n"
   ]
  },
  {
   "cell_type": "code",
   "execution_count": 50,
   "id": "22a32252",
   "metadata": {},
   "outputs": [
    {
     "data": {
      "text/plain": [
       "(60000, 28, 28, 1)"
      ]
     },
     "execution_count": 50,
     "metadata": {},
     "output_type": "execute_result"
    }
   ],
   "source": [
    "train_images.shape"
   ]
  },
  {
   "cell_type": "code",
   "execution_count": 51,
   "id": "177673e3",
   "metadata": {},
   "outputs": [
    {
     "data": {
      "text/plain": [
       "(10000, 28, 28, 1)"
      ]
     },
     "execution_count": 51,
     "metadata": {},
     "output_type": "execute_result"
    }
   ],
   "source": [
    "test_images.shape"
   ]
  },
  {
   "cell_type": "markdown",
   "id": "a4477219",
   "metadata": {},
   "source": [
    "Convolution neural network"
   ]
  },
  {
   "cell_type": "code",
   "execution_count": 52,
   "id": "89cc0663",
   "metadata": {},
   "outputs": [],
   "source": [
    "model =models.Sequential()\n",
    "model.add(layers.Conv2D(32,(3,3),activation='relu',input_shape=(28,28,1)))\n",
    "model.add(layers.MaxPooling2D(2,2))\n",
    "model.add(layers.Conv2D(64,(3,3),activation='relu'))\n",
    "model.add(layers.MaxPooling2D(2,2))\n",
    "model.add(layers.Conv2D(64,(3,3),activation='relu'))\n",
    "# addinhg dense layer on top\n",
    "model.add(layers.Flatten())\n",
    "model.add(layers.Dense(64,activation='relu'))\n",
    "model.add(layers.Dense(10))"
   ]
  },
  {
   "cell_type": "code",
   "execution_count": 54,
   "id": "e5dcd355",
   "metadata": {},
   "outputs": [],
   "source": [
    "#complie the train model\n",
    "model.compile(optimizer='adam',\n",
    "             loss=tf.keras.losses.SparseCategoricalCrossentropy(from_logits=True),\n",
    "             metrics =['accuracy'])"
   ]
  },
  {
   "cell_type": "markdown",
   "id": "4042f074",
   "metadata": {},
   "source": [
    "# Model Training"
   ]
  },
  {
   "cell_type": "code",
   "execution_count": 59,
   "id": "2bc76e8f",
   "metadata": {},
   "outputs": [
    {
     "name": "stdout",
     "output_type": "stream",
     "text": [
      "Epoch 1/5\n",
      "\u001b[1m1875/1875\u001b[0m \u001b[32m━━━━━━━━━━━━━━━━━━━━\u001b[0m\u001b[37m\u001b[0m \u001b[1m17s\u001b[0m 9ms/step - accuracy: 0.9267 - loss: 0.1931 - val_accuracy: 0.9058 - val_loss: 0.2600\n",
      "Epoch 2/5\n",
      "\u001b[1m1875/1875\u001b[0m \u001b[32m━━━━━━━━━━━━━━━━━━━━\u001b[0m\u001b[37m\u001b[0m \u001b[1m17s\u001b[0m 9ms/step - accuracy: 0.9343 - loss: 0.1744 - val_accuracy: 0.9102 - val_loss: 0.2660\n",
      "Epoch 3/5\n",
      "\u001b[1m1875/1875\u001b[0m \u001b[32m━━━━━━━━━━━━━━━━━━━━\u001b[0m\u001b[37m\u001b[0m \u001b[1m17s\u001b[0m 9ms/step - accuracy: 0.9421 - loss: 0.1552 - val_accuracy: 0.9145 - val_loss: 0.2698\n",
      "Epoch 4/5\n",
      "\u001b[1m1875/1875\u001b[0m \u001b[32m━━━━━━━━━━━━━━━━━━━━\u001b[0m\u001b[37m\u001b[0m \u001b[1m17s\u001b[0m 9ms/step - accuracy: 0.9451 - loss: 0.1474 - val_accuracy: 0.9104 - val_loss: 0.2872\n",
      "Epoch 5/5\n",
      "\u001b[1m1875/1875\u001b[0m \u001b[32m━━━━━━━━━━━━━━━━━━━━\u001b[0m\u001b[37m\u001b[0m \u001b[1m17s\u001b[0m 9ms/step - accuracy: 0.9498 - loss: 0.1330 - val_accuracy: 0.9115 - val_loss: 0.2845\n"
     ]
    }
   ],
   "source": [
    "history =model.fit(train_images,train_labels,epochs=5,\n",
    "                    validation_data=(test_images,test_labels))"
   ]
  },
  {
   "cell_type": "code",
   "execution_count": 60,
   "id": "fe62b545",
   "metadata": {},
   "outputs": [
    {
     "data": {
      "image/png": "[encoded data removed]",
      "text/plain": [
       "<Figure size 640x480 with 1 Axes>"
      ]
     },
     "metadata": {},
     "output_type": "display_data"
    },
    {
     "data": {
      "image/png": "[encoded data removed]",
      "text/plain": [
       "<Figure size 640x480 with 1 Axes>"
      ]
     },
     "metadata": {},
     "output_type": "display_data"
    }
   ],
   "source": [
    "# Plot training & validation accuracy values\n",
    "plt.plot(history.history['accuracy'])\n",
    "plt.plot(history.history['val_accuracy'])\n",
    "plt.title('Model accuracy')\n",
    "plt.ylabel('Accuracy')\n",
    "plt.xlabel('Epoch')\n",
    "plt.legend(['Train', 'Test'], loc='upper left')\n",
    "plt.show()\n",
    "\n",
    "# Plot training & validation loss values\n",
    "plt.plot(history.history['loss'])\n",
    "plt.plot(history.history['val_loss'])\n",
    "plt.title('Model loss')\n",
    "plt.ylabel('Loss')\n",
    "plt.xlabel('Epoch')\n",
    "plt.legend(['Train', 'Test'], loc='upper left')\n",
    "plt.show()"
   ]
  },
  {
   "cell_type": "code",
   "execution_count": null,
   "id": "3f52e370",
   "metadata": {},
   "outputs": [],
   "source": []
  }
 ],
 "metadata": {
  "kernelspec": {
   "display_name": "Python 3 (ipykernel)",
   "language": "python",
   "name": "python3"
  },
  "language_info": {
   "codemirror_mode": {
    "name": "ipython",
    "version": 3
   },
   "file_extension": ".py",
   "mimetype": "text/x-python",
   "name": "python",
   "nbconvert_exporter": "python",
   "pygments_lexer": "ipython3",
   "version": "3.9.21"
  }
 },
 "nbformat": 4,
 "nbformat_minor": 5
}
